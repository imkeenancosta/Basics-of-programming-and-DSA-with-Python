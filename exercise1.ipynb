{
  "nbformat": 4,
  "nbformat_minor": 0,
  "metadata": {
    "colab": {
      "provenance": []
    },
    "kernelspec": {
      "name": "python3",
      "display_name": "Python 3"
    },
    "language_info": {
      "name": "python"
    }
  },
  "cells": [
    {
      "cell_type": "code",
      "execution_count": 2,
      "metadata": {
        "colab": {
          "base_uri": "https://localhost:8080/"
        },
        "id": "Q7V94qrBEPxM",
        "outputId": "02481578-2ba3-41a8-cd4f-ac00c5690bb4"
      },
      "outputs": [
        {
          "name": "stdout",
          "output_type": "stream",
          "text": [
            "Enter the first side4\n",
            "Enter the second side4\n",
            "Enter the thifrd side7\n",
            "It's an isoceles triangle\n",
            "Do you still wanna check for other possibilities?no\n"
          ]
        }
      ],
      "source": [
        "while True:\n",
        "  a = int(input(\"Enter the first side\"))\n",
        "  b = int(input(\"Enter the second side\"))\n",
        "  c = int(input(\"Enter the thifrd side\"))\n",
        "\n",
        "  if a + b > c and b + c > a and c + a > b:\n",
        "    if a == b == c:\n",
        "      print(\"It's an eqilateral triangle\")\n",
        "    elif a != b != c:\n",
        "      print(\"It's a scalene triangle\")\n",
        "    else:\n",
        "      print(\"It's an isoceles triangle\")\n",
        "  else:\n",
        "    print(\"Formation of trinagle is not possible\")\n",
        "\n",
        "  flag = input(\"Do you still wanna check for other possibilities?\")\n",
        "  if flag == \"no\":\n",
        "    break"
      ]
    },
    {
      "cell_type": "code",
      "source": [
        "# Given a number n, find the sum of all the numbers from 1 to N\n",
        "\n",
        "n = int(input(\"Enter the value for n\"))\n",
        "sum = 0\n",
        "\n",
        "for i in range(1, n + 1):\n",
        "  sum = sum + i\n",
        "\n",
        "print(sum)\n"
      ],
      "metadata": {
        "colab": {
          "base_uri": "https://localhost:8080/"
        },
        "id": "nAC9pqljKCyy",
        "outputId": "c1651ff1-c608-4d56-f428-2ae0d47028c6"
      },
      "execution_count": 7,
      "outputs": [
        {
          "output_type": "stream",
          "name": "stdout",
          "text": [
            "Enter the value for n7\n",
            "28\n"
          ]
        }
      ]
    },
    {
      "cell_type": "code",
      "source": [
        "#Given a number n, find the sum of all even numbers from 1 to N\n",
        "\n",
        "n = int(input(\"Enter the value for n \"))\n",
        "sum = 0\n",
        "\n",
        "for i in range(1, n + 1):\n",
        "  if i % 2 == 0:\n",
        "    sum = sum + i\n",
        "\n",
        "print(sum)\n",
        "\n",
        "\n",
        "\n"
      ],
      "metadata": {
        "colab": {
          "base_uri": "https://localhost:8080/"
        },
        "id": "LV9c-CfjJmYM",
        "outputId": "c1cb2e24-c894-47e7-ea7b-bb6e141d4402"
      },
      "execution_count": 10,
      "outputs": [
        {
          "output_type": "stream",
          "name": "stdout",
          "text": [
            "Enter the value for n 7\n",
            "12\n"
          ]
        }
      ]
    },
    {
      "cell_type": "code",
      "source": [
        "#Given a number, find whether it's prime or not\n",
        "import math\n",
        "n = int(input(\"Enter the alue for n \"))\n",
        "flag = True\n",
        "\n",
        "for i in range(2, int(math.sqrt(n)) + 1):\n",
        "  if n % i == 0:\n",
        "    flag = False\n",
        "    break\n",
        "if flag == False:\n",
        "  print(n, \"is not a prime number\")\n",
        "else:\n",
        "  print(n, \"is a prime number\")"
      ],
      "metadata": {
        "colab": {
          "base_uri": "https://localhost:8080/"
        },
        "id": "VlsH-fEobl2B",
        "outputId": "f8eb98b9-8efa-4347-9d1d-fa4acf0467ea"
      },
      "execution_count": 20,
      "outputs": [
        {
          "output_type": "stream",
          "name": "stdout",
          "text": [
            "Enter the alue for n 3\n",
            "3 is a prime number\n"
          ]
        }
      ]
    }
  ]
}